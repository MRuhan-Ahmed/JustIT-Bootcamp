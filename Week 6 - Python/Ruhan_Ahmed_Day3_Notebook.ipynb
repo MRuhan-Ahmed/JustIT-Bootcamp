{
  "cells": [
    {
      "cell_type": "markdown",
      "id": "69c11acc",
      "metadata": {
        "id": "69c11acc"
      },
      "source": [
        "\n",
        "<style>\n",
        "/* Increase size for section headers */\n",
        "h2 { font-size: 2.5em !important; }\n",
        "h3 { font-size: 2.25em !important; }\n",
        "h4 { font-size: 1.75em !important; }\n",
        "</style>"
      ]
    },
    {
      "cell_type": "markdown",
      "id": "c648f453",
      "metadata": {
        "id": "c648f453"
      },
      "source": [
        "# **Day 3: Introduction to Data Analysis with Pandas 🐼**\n",
        "\n",
        "Welcome to Day 3! Today, we'll dive into **Pandas**, a powerful Python library essential for data analysis. By the end of this session, you'll be comfortable with the basics of manipulating and analyzing data."
      ]
    },
    {
      "cell_type": "markdown",
      "id": "9564d3a6",
      "metadata": {
        "id": "9564d3a6"
      },
      "source": [
        "# **🎯 Goals for Today:**\n",
        "\n",
        "1.  Understand what Python **libraries** are and why they are useful.\n",
        "2.  Learn about **Pandas** and its primary data structures: **Series** and **DataFrame**.\n",
        "3.  Load data from a CSV file into a DataFrame.\n",
        "4.  Inspect and explore data to understand its structure and contents.\n",
        "5.  Perform data cleaning tasks like handling missing values and duplicates.\n",
        "6.  Transform data by creating new columns and changing data types.\n",
        "7.  Calculate basic statistics and perform simple aggregations.\n",
        "8.  Create basic visualizations (histograms, bar plots, scatter plots) to understand data patterns.\n",
        "9.  Practice with hands-on exercises and group activities."
      ]
    },
    {
      "cell_type": "markdown",
      "id": "5358cfd8",
      "metadata": {
        "id": "5358cfd8"
      },
      "source": [
        "---\n",
        "# **1. What are Python Libraries? 🤔**\n",
        "\n",
        "Python libraries are collections of pre-written code (modules, functions, classes) that provide functionalities to perform specific tasks without you having to write the code from scratch. They extend Python's capabilities.\n",
        "\n",
        "**Common Libraries in Data Analysis:**\n",
        "* **Pandas:** For data manipulation and analysis (what we're learning today!).\n",
        "* **NumPy:** For numerical operations, especially with arrays.\n",
        "* **Matplotlib:** For creating static, animated, and interactive visualizations.\n",
        "* **Seaborn:** Built on Matplotlib, provides a high-level interface for drawing attractive statistical graphics.\n",
        "* **SciPy:** For scientific and technical computing.\n",
        "* **Scikit-learn:** For machine learning tasks."
      ]
    },
    {
      "cell_type": "markdown",
      "id": "01949d33",
      "metadata": {
        "id": "01949d33"
      },
      "source": [
        "---\n",
        "# **2. Introduction to Pandas 🐼**\n",
        "\n",
        "**Pandas** is a fast, powerful, flexible, and easy-to-use open-source data analysis and manipulation tool, built on top of the Python programming language. It's the go-to library for handling structured data.\n",
        "\n",
        "**Why use Pandas?**\n",
        "* Easily loads data from various sources (CSV, Excel, databases, etc.).\n",
        "* Provides rich data structures for holding and manipulating data.\n",
        "* Offers a wide range of functions for cleaning, transforming, merging, and reshaping data.\n",
        "* Integrates well with other data science libraries like NumPy and Matplotlib.\n",
        "\n"
      ]
    },
    {
      "cell_type": "markdown",
      "id": "c12b37d8",
      "metadata": {
        "id": "c12b37d8"
      },
      "source": [
        "# **🛠️ Setup: Import Libraries**\n",
        "\n",
        "First, we need to import the libraries we'll be using. **Pandas** is for data manipulation, and **Matplotlib** is for plotting. We use aliases (`pd`, `plt`) by convention to make them easier to use."
      ]
    },
    {
      "cell_type": "code",
      "execution_count": 12,
      "id": "744d2605",
      "metadata": {
        "id": "744d2605"
      },
      "outputs": [],
      "source": [
        "# Import pandas and matplotlib\n",
        "import pandas as pd"
      ]
    },
    {
      "cell_type": "markdown",
      "source": [
        "# **Core Pandas Data Structures:**\n",
        "\n",
        "# **2.1. Pandas Series**\n",
        "A **Series** is a one-dimensional labeled array capable of holding data of any type (integers, strings, floating-point numbers, Python objects, etc.). It's like a single column in a spreadsheet or a SQL table. Each element in a Series has an associated label, called an **index**."
      ],
      "metadata": {
        "id": "9psXZ0uplm1Q"
      },
      "id": "9psXZ0uplm1Q"
    },
    {
      "cell_type": "code",
      "execution_count": 13,
      "id": "99f7f2f6",
      "metadata": {
        "id": "99f7f2f6",
        "colab": {
          "base_uri": "https://localhost:8080/"
        },
        "outputId": "5220f02d-34e1-4fc5-8e0b-4b5bd8b156e7"
      },
      "outputs": [
        {
          "output_type": "stream",
          "name": "stdout",
          "text": [
            "Student Scores Series:\n",
            "0    90\n",
            "1    85\n",
            "2    77\n",
            "3    92\n",
            "4    88\n",
            "dtype: int64\n",
            "\n",
            "Fruit Quantities Series:\n",
            "apples      10\n",
            "bananas     15\n",
            "cherries     8\n",
            "dates       12\n",
            "dtype: int64\n",
            "\n",
            "Quantity of bananas: 15\n"
          ]
        }
      ],
      "source": [
        "# Example 2.1.1: Create a Series from a list\n",
        "student_scores = pd.Series([90, 85, 77, 92, 88])\n",
        "print(\"Student Scores Series:\")\n",
        "print(student_scores)\n",
        "\n",
        "# Example 2.1.2: Create a Series with a custom index\n",
        "fruit_quantities = pd.Series([10, 15, 8, 12], index=['apples', 'bananas', 'cherries', 'dates'])\n",
        "print(\"\\nFruit Quantities Series:\")\n",
        "print(fruit_quantities)\n",
        "\n",
        "# Accessing an element using index\n",
        "print(\"\\nQuantity of bananas:\", fruit_quantities['bananas'])"
      ]
    },
    {
      "cell_type": "markdown",
      "id": "40269ca8",
      "metadata": {
        "id": "40269ca8"
      },
      "source": [
        "**Exercise 2.1.1:** Create a Pandas Series named `book_prices` with the following prices: `[15.99, 22.50, 12.75, 9.99]`. Print the Series."
      ]
    },
    {
      "cell_type": "code",
      "execution_count": 14,
      "id": "da918890",
      "metadata": {
        "id": "da918890",
        "colab": {
          "base_uri": "https://localhost:8080/"
        },
        "outputId": "696480fd-c692-41fc-f977-e697f2145c2e"
      },
      "outputs": [
        {
          "output_type": "stream",
          "name": "stdout",
          "text": [
            "Book Prices Series:\n",
            "0    15.99\n",
            "1    22.50\n",
            "2    12.75\n",
            "3     9.99\n",
            "dtype: float64\n"
          ]
        }
      ],
      "source": [
        "# Exercise 2.1.1 Code Cell\n",
        "book_prices = pd.Series([15.99, 22.50, 12.75, 9.99])\n",
        "print(f\"Book Prices Series:\\n{book_prices}\")"
      ]
    },
    {
      "cell_type": "markdown",
      "id": "9f0837f6",
      "metadata": {
        "id": "9f0837f6"
      },
      "source": [
        "**Exercise 2.1.2:** Create a Pandas Series named `subject_teachers` with subjects as indices `['Math', 'Science', 'History', 'English']` and teacher names as values `['Mr. Smith', 'Ms. Jones', 'Dr. Brown', 'Ms. Davis']`. Print the Series and then print the teacher for 'History'."
      ]
    },
    {
      "cell_type": "code",
      "execution_count": 15,
      "id": "dc498a72",
      "metadata": {
        "id": "dc498a72",
        "colab": {
          "base_uri": "https://localhost:8080/"
        },
        "outputId": "25c4d0c2-670d-4e18-daae-a488cabf952c"
      },
      "outputs": [
        {
          "output_type": "stream",
          "name": "stdout",
          "text": [
            "Subject Teacher Series:\n",
            "Math       Mr. Smith\n",
            "Science    Ms. Jones\n",
            "History    Dr. Brown\n",
            "English    Ms. Davis\n",
            "dtype: object\n",
            "\n",
            "Teacher for History: Dr. Brown\n"
          ]
        }
      ],
      "source": [
        "# Exercise 2.1.2 Code Cell\n",
        "subject_teachers = pd.Series(['Mr. Smith', 'Ms. Jones', 'Dr. Brown', 'Ms. Davis'], index=['Math', 'Science', 'History', 'English'])\n",
        "\n",
        "print(f\"Subject Teacher Series:\\n{subject_teachers}\")\n",
        "print(f\"\\nTeacher for History: {subject_teachers['History']}\")"
      ]
    },
    {
      "cell_type": "markdown",
      "id": "5b303705",
      "metadata": {
        "id": "5b303705"
      },
      "source": [
        "# **✨ Group Activity 1: Series Operations ✨**\n",
        "\n",
        "**Scenario:** You have a Series of product prices and want to apply a 10% discount.\n",
        "1. Create a Pandas Series named `original_prices` with values `[20, 50, 30, 75, 90]`.\n",
        "2. Try to calculate the discounted prices (original price - 10% of original price).\n",
        "3. **Buggy Code attempt:** `discounted_prices = original_prices - \"10%\"`\n",
        "4. Discuss: Why does this fail? How can you correctly calculate the discount (e.g., `original_prices * 0.90`)?\n",
        "5. Write the corrected code to calculate and print the `discounted_prices`."
      ]
    },
    {
      "cell_type": "code",
      "execution_count": 16,
      "id": "a8942d89",
      "metadata": {
        "id": "a8942d89",
        "colab": {
          "base_uri": "https://localhost:8080/"
        },
        "outputId": "3ff5212f-1a4f-4935-fd0e-649b030e4c36"
      },
      "outputs": [
        {
          "output_type": "stream",
          "name": "stdout",
          "text": [
            "Original Prices:\n",
            "0    20\n",
            "1    50\n",
            "2    30\n",
            "3    75\n",
            "4    90\n",
            "dtype: int64\n",
            "\n",
            "Discounted Prices (10% off):\n",
            "0    18.0\n",
            "1    45.0\n",
            "2    27.0\n",
            "3    67.5\n",
            "4    81.0\n",
            "dtype: float64\n"
          ]
        }
      ],
      "source": [
        "# Group Activity 1 Code Cell\n",
        "original_prices = pd.Series([20, 50, 30, 75, 90])\n",
        "# discounted_prices = original_prices - \"10%\" # This is buggy!\n",
        "# print(discounted_prices)\n",
        "\n",
        "# Write your corrected code here:\n",
        "discount_percentage = 0.10\n",
        "discounted_prices = original_prices * (1 - discount_percentage)\n",
        "print(\"Original Prices:\")\n",
        "print(original_prices)\n",
        "print(\"\\nDiscounted Prices (10% off):\")\n",
        "print(discounted_prices)"
      ]
    },
    {
      "cell_type": "markdown",
      "id": "5c52a88c",
      "metadata": {
        "id": "5c52a88c"
      },
      "source": [
        "# **2.2. Pandas DataFrame**\n",
        "A **DataFrame** is a two-dimensional, size-mutable, and potentially heterogeneous tabular data structure with labeled axes (rows and columns). You can think of it as a spreadsheet, a SQL table, or a dictionary of Series objects. It's the most commonly used Pandas object."
      ]
    },
    {
      "cell_type": "code",
      "execution_count": 17,
      "id": "e8ea6909",
      "metadata": {
        "id": "e8ea6909",
        "colab": {
          "base_uri": "https://localhost:8080/"
        },
        "outputId": "d45c721e-ccae-4ed2-e4c4-62b9f0ea8ca4"
      },
      "outputs": [
        {
          "output_type": "stream",
          "name": "stdout",
          "text": [
            "People DataFrame:\n",
            "      Name  Age      City\n",
            "0    Alice   25  New York\n",
            "1      Bob   30     Paris\n",
            "2  Charlie   22    London\n",
            "3    David   28    Berlin\n"
          ]
        }
      ],
      "source": [
        "# Example 2.2.1: Create a DataFrame from a dictionary of lists\n",
        "data: dict[str, list] = {\n",
        "    'Name': ['Alice', 'Bob', 'Charlie', 'David'],\n",
        "    'Age': [25, 30, 22, 28],\n",
        "    'City': ['New York', 'Paris', 'London', 'Berlin']\n",
        "}\n",
        "df_people = pd.DataFrame(data)\n",
        "print(\"People DataFrame:\")\n",
        "print(df_people)"
      ]
    },
    {
      "cell_type": "code",
      "source": [
        "# Example 2.2.1: Create a DataFrame from a dictionary of lists with a custom index\n",
        "data: dict[str, list] = {\n",
        "    'Name': ['Alice', 'Bob', 'Charlie', 'David'],\n",
        "    'Age': [25, 30, 22, 28],\n",
        "    'City': ['New York', 'Paris', 'London', 'Berlin']\n",
        "}\n",
        "\n",
        "# Define a custom index\n",
        "custom_index = ['ID101', 'ID102', 'ID103', 'ID104']\n",
        "\n",
        "# Create the DataFrame with the custom index\n",
        "df_people = pd.DataFrame(data, index=custom_index)\n",
        "\n",
        "print(\"People DataFrame with Custom Index:\")\n",
        "print(df_people)\n"
      ],
      "metadata": {
        "id": "E9JJ1C-lg9HV",
        "colab": {
          "base_uri": "https://localhost:8080/"
        },
        "outputId": "c0346e5d-87b8-4b69-bd4f-8075ca03e126"
      },
      "id": "E9JJ1C-lg9HV",
      "execution_count": 18,
      "outputs": [
        {
          "output_type": "stream",
          "name": "stdout",
          "text": [
            "People DataFrame with Custom Index:\n",
            "          Name  Age      City\n",
            "ID101    Alice   25  New York\n",
            "ID102      Bob   30     Paris\n",
            "ID103  Charlie   22    London\n",
            "ID104    David   28    Berlin\n"
          ]
        }
      ]
    },
    {
      "cell_type": "markdown",
      "id": "5ccd3c29",
      "metadata": {
        "id": "5ccd3c29"
      },
      "source": [
        "**Exercise 2.2.1:** Create a DataFrame named `df_products` with three columns: `Product_Name` (strings), `Price` (floats), and `In_Stock` (booleans). Include at least 3 rows of data. Print the DataFrame."
      ]
    },
    {
      "cell_type": "code",
      "execution_count": 19,
      "id": "c60d5531",
      "metadata": {
        "id": "c60d5531",
        "colab": {
          "base_uri": "https://localhost:8080/"
        },
        "outputId": "aaf8722e-f357-4521-da29-85a4c4579f90"
      },
      "outputs": [
        {
          "output_type": "stream",
          "name": "stdout",
          "text": [
            "Products dataFrame:\n",
            "  Product_Name  Price  In_Stock\n",
            "0    Product A  19.99      True\n",
            "1    Product B  29.99     False\n",
            "2    Product C   9.99      True\n"
          ]
        }
      ],
      "source": [
        "# Exercise 2.2.1 Code Cell\n",
        "product_data: dict[str, list[str | float | bool]] = {\n",
        "    'Product_Name': ['Product A', 'Product B', 'Product C'],\n",
        "    'Price': [19.99, 29.99, 9.99],\n",
        "    'In_Stock': [True, False, True]\n",
        "}\n",
        "\n",
        "df_products = pd.DataFrame(product_data)\n",
        "print(f\"Products dataFrame:\\n{df_products}\")\n"
      ]
    },
    {
      "cell_type": "markdown",
      "id": "d0511d88",
      "metadata": {
        "id": "d0511d88"
      },
      "source": [
        "**Exercise 2.2.2:** Create a DataFrame named `df_temps` with rows indexed by `['Mon', 'Tue', 'Wed']` and columns for `['Morning_Temp', 'Evening_Temp']`. Populate it with some temperature data. Print the DataFrame."
      ]
    },
    {
      "cell_type": "code",
      "execution_count": 20,
      "id": "682f0aaf",
      "metadata": {
        "id": "682f0aaf",
        "colab": {
          "base_uri": "https://localhost:8080/"
        },
        "outputId": "eba7dd3d-47ba-40bb-e769-a2ac8e24c589"
      },
      "outputs": [
        {
          "output_type": "stream",
          "name": "stdout",
          "text": [
            "Temperature DataFrame:\n",
            "     Morning_Temp  Evening_Temp\n",
            "Mon            25            27\n",
            "Tue            28            29\n",
            "Wed            22            23\n"
          ]
        }
      ],
      "source": [
        "# Exercise 2.2.2 Code Cell\n",
        "temperature_data: dict[str, list[int]] = {\n",
        "    'Morning_Temp': [25, 28, 22],\n",
        "    'Evening_Temp': [27, 29, 23]\n",
        "}\n",
        "\n",
        "df_temps = pd.DataFrame(temperature_data, index=['Mon', 'Tue', 'Wed'])\n",
        "print(f\"Temperature DataFrame:\\n{df_temps}\")"
      ]
    },
    {
      "cell_type": "markdown",
      "id": "58184fb0",
      "metadata": {
        "id": "58184fb0"
      },
      "source": [
        "---\n",
        "# **3. Loading Data from CSV Files 📄**\n",
        "\n",
        "CSV (Comma Separated Values) files are a common way to store tabular data. Pandas makes it very easy to read data from CSV files into a DataFrame.\n",
        "\n",
        "**Key function:** `pd.read_csv('your_file_name.csv')`\n",
        "\n",
        "**For this notebook, we will assume you have a `student.csv` file in the same directory as this notebook with the following approximate structure:**\n",
        "```csv\n",
        "id,name,class,mark,gender\n",
        "1,John Deo,Four,75,female\n",
        "2,Max Ruin,Three,85,male\n",
        "3,Arnold,Three,55,male\n",
        "4,Krish Star,Four,60,female\n",
        "5,John Mike,Four,60,female\n",
        "6,Alex John,Four,55,male\n",
        "7,My John Rob,Fifth,78,male\n",
        "8,Asruid,Five,85,male\n",
        "9,Tes Qry,Six,78,\n",
        "10,Big John,Four,55,female\n",
        "11,Ronald,Six,89,female\n",
        "12,Recky,Six,94,female\n",
        "13,Kty,Seven,88,female\n",
        "14,Bigy,Seven,88,female\n",
        "15,Tade Row,Eight,88,male\n",
        "16,Gimmy,Four,88,male\n",
        "17, HONNY,Five,75,male\n",
        "18,KINN ENG,Six,98,female\n",
        "19,Linnea,Seven,69,female\n",
        "20,Jackly,Nine,65,female\n",
        "21,Babby John,Four,69,female\n",
        "22,Reggid,Seven,72,male\n",
        "23,Herod,Eight,79,male\n",
        "24,Tiddy Now,Seven,78,male\n",
        "25,Mikky,Seven,72,male\n",
        "26,Crelea,Seven,79,male\n",
        "27,Big Nose,Three,82,female\n",
        "28, Anto,Six,67,male\n",
        "29,Tes Qry,Six,78,\n",
        "30,Reppy Red,Six,79,female\n",
        "31,Malik,Five,82,male\n",
        "32,イドリ,Four,75,male\n",
        "33,Monika,Nine,58,female\n",
        "34,Gain Toe,Seven,69,male\n",
        "35,BSR,Eight,92,male\n",
        "```\n",
        "*(You can create this file yourself, or I will provide code to create a sample DataFrame if the file is not found.)*"
      ]
    },
    {
      "cell_type": "code",
      "execution_count": 21,
      "id": "b6a835a6",
      "metadata": {
        "id": "b6a835a6",
        "colab": {
          "base_uri": "https://localhost:8080/",
          "height": 206
        },
        "outputId": "ffbf4a4e-23d3-43b6-cad4-dade4e61740d"
      },
      "outputs": [
        {
          "output_type": "execute_result",
          "data": {
            "text/plain": [
              "   id        name  class  mark  gender\n",
              "0   1    John Deo   Four    75  female\n",
              "1   2    Max Ruin  Three    85    male\n",
              "2   3      Arnold  Three    55    male\n",
              "3   4  Krish Star   Four    60  female\n",
              "4   5   John Mike   Four    60  female"
            ],
            "text/html": [
              "\n",
              "  <div id=\"df-d4b846de-28fb-4659-bde6-5bf56675b02c\" class=\"colab-df-container\">\n",
              "    <div>\n",
              "<style scoped>\n",
              "    .dataframe tbody tr th:only-of-type {\n",
              "        vertical-align: middle;\n",
              "    }\n",
              "\n",
              "    .dataframe tbody tr th {\n",
              "        vertical-align: top;\n",
              "    }\n",
              "\n",
              "    .dataframe thead th {\n",
              "        text-align: right;\n",
              "    }\n",
              "</style>\n",
              "<table border=\"1\" class=\"dataframe\">\n",
              "  <thead>\n",
              "    <tr style=\"text-align: right;\">\n",
              "      <th></th>\n",
              "      <th>id</th>\n",
              "      <th>name</th>\n",
              "      <th>class</th>\n",
              "      <th>mark</th>\n",
              "      <th>gender</th>\n",
              "    </tr>\n",
              "  </thead>\n",
              "  <tbody>\n",
              "    <tr>\n",
              "      <th>0</th>\n",
              "      <td>1</td>\n",
              "      <td>John Deo</td>\n",
              "      <td>Four</td>\n",
              "      <td>75</td>\n",
              "      <td>female</td>\n",
              "    </tr>\n",
              "    <tr>\n",
              "      <th>1</th>\n",
              "      <td>2</td>\n",
              "      <td>Max Ruin</td>\n",
              "      <td>Three</td>\n",
              "      <td>85</td>\n",
              "      <td>male</td>\n",
              "    </tr>\n",
              "    <tr>\n",
              "      <th>2</th>\n",
              "      <td>3</td>\n",
              "      <td>Arnold</td>\n",
              "      <td>Three</td>\n",
              "      <td>55</td>\n",
              "      <td>male</td>\n",
              "    </tr>\n",
              "    <tr>\n",
              "      <th>3</th>\n",
              "      <td>4</td>\n",
              "      <td>Krish Star</td>\n",
              "      <td>Four</td>\n",
              "      <td>60</td>\n",
              "      <td>female</td>\n",
              "    </tr>\n",
              "    <tr>\n",
              "      <th>4</th>\n",
              "      <td>5</td>\n",
              "      <td>John Mike</td>\n",
              "      <td>Four</td>\n",
              "      <td>60</td>\n",
              "      <td>female</td>\n",
              "    </tr>\n",
              "  </tbody>\n",
              "</table>\n",
              "</div>\n",
              "    <div class=\"colab-df-buttons\">\n",
              "\n",
              "  <div class=\"colab-df-container\">\n",
              "    <button class=\"colab-df-convert\" onclick=\"convertToInteractive('df-d4b846de-28fb-4659-bde6-5bf56675b02c')\"\n",
              "            title=\"Convert this dataframe to an interactive table.\"\n",
              "            style=\"display:none;\">\n",
              "\n",
              "  <svg xmlns=\"http://www.w3.org/2000/svg\" height=\"24px\" viewBox=\"0 -960 960 960\">\n",
              "    <path d=\"M120-120v-720h720v720H120Zm60-500h600v-160H180v160Zm220 220h160v-160H400v160Zm0 220h160v-160H400v160ZM180-400h160v-160H180v160Zm440 0h160v-160H620v160ZM180-180h160v-160H180v160Zm440 0h160v-160H620v160Z\"/>\n",
              "  </svg>\n",
              "    </button>\n",
              "\n",
              "  <style>\n",
              "    .colab-df-container {\n",
              "      display:flex;\n",
              "      gap: 12px;\n",
              "    }\n",
              "\n",
              "    .colab-df-convert {\n",
              "      background-color: #E8F0FE;\n",
              "      border: none;\n",
              "      border-radius: 50%;\n",
              "      cursor: pointer;\n",
              "      display: none;\n",
              "      fill: #1967D2;\n",
              "      height: 32px;\n",
              "      padding: 0 0 0 0;\n",
              "      width: 32px;\n",
              "    }\n",
              "\n",
              "    .colab-df-convert:hover {\n",
              "      background-color: #E2EBFA;\n",
              "      box-shadow: 0px 1px 2px rgba(60, 64, 67, 0.3), 0px 1px 3px 1px rgba(60, 64, 67, 0.15);\n",
              "      fill: #174EA6;\n",
              "    }\n",
              "\n",
              "    .colab-df-buttons div {\n",
              "      margin-bottom: 4px;\n",
              "    }\n",
              "\n",
              "    [theme=dark] .colab-df-convert {\n",
              "      background-color: #3B4455;\n",
              "      fill: #D2E3FC;\n",
              "    }\n",
              "\n",
              "    [theme=dark] .colab-df-convert:hover {\n",
              "      background-color: #434B5C;\n",
              "      box-shadow: 0px 1px 3px 1px rgba(0, 0, 0, 0.15);\n",
              "      filter: drop-shadow(0px 1px 2px rgba(0, 0, 0, 0.3));\n",
              "      fill: #FFFFFF;\n",
              "    }\n",
              "  </style>\n",
              "\n",
              "    <script>\n",
              "      const buttonEl =\n",
              "        document.querySelector('#df-d4b846de-28fb-4659-bde6-5bf56675b02c button.colab-df-convert');\n",
              "      buttonEl.style.display =\n",
              "        google.colab.kernel.accessAllowed ? 'block' : 'none';\n",
              "\n",
              "      async function convertToInteractive(key) {\n",
              "        const element = document.querySelector('#df-d4b846de-28fb-4659-bde6-5bf56675b02c');\n",
              "        const dataTable =\n",
              "          await google.colab.kernel.invokeFunction('convertToInteractive',\n",
              "                                                    [key], {});\n",
              "        if (!dataTable) return;\n",
              "\n",
              "        const docLinkHtml = 'Like what you see? Visit the ' +\n",
              "          '<a target=\"_blank\" href=https://colab.research.google.com/notebooks/data_table.ipynb>data table notebook</a>'\n",
              "          + ' to learn more about interactive tables.';\n",
              "        element.innerHTML = '';\n",
              "        dataTable['output_type'] = 'display_data';\n",
              "        await google.colab.output.renderOutput(dataTable, element);\n",
              "        const docLink = document.createElement('div');\n",
              "        docLink.innerHTML = docLinkHtml;\n",
              "        element.appendChild(docLink);\n",
              "      }\n",
              "    </script>\n",
              "  </div>\n",
              "\n",
              "\n",
              "    <div id=\"df-6696c211-89fe-4c29-be4e-eb56e569718a\">\n",
              "      <button class=\"colab-df-quickchart\" onclick=\"quickchart('df-6696c211-89fe-4c29-be4e-eb56e569718a')\"\n",
              "                title=\"Suggest charts\"\n",
              "                style=\"display:none;\">\n",
              "\n",
              "<svg xmlns=\"http://www.w3.org/2000/svg\" height=\"24px\"viewBox=\"0 0 24 24\"\n",
              "     width=\"24px\">\n",
              "    <g>\n",
              "        <path d=\"M19 3H5c-1.1 0-2 .9-2 2v14c0 1.1.9 2 2 2h14c1.1 0 2-.9 2-2V5c0-1.1-.9-2-2-2zM9 17H7v-7h2v7zm4 0h-2V7h2v10zm4 0h-2v-4h2v4z\"/>\n",
              "    </g>\n",
              "</svg>\n",
              "      </button>\n",
              "\n",
              "<style>\n",
              "  .colab-df-quickchart {\n",
              "      --bg-color: #E8F0FE;\n",
              "      --fill-color: #1967D2;\n",
              "      --hover-bg-color: #E2EBFA;\n",
              "      --hover-fill-color: #174EA6;\n",
              "      --disabled-fill-color: #AAA;\n",
              "      --disabled-bg-color: #DDD;\n",
              "  }\n",
              "\n",
              "  [theme=dark] .colab-df-quickchart {\n",
              "      --bg-color: #3B4455;\n",
              "      --fill-color: #D2E3FC;\n",
              "      --hover-bg-color: #434B5C;\n",
              "      --hover-fill-color: #FFFFFF;\n",
              "      --disabled-bg-color: #3B4455;\n",
              "      --disabled-fill-color: #666;\n",
              "  }\n",
              "\n",
              "  .colab-df-quickchart {\n",
              "    background-color: var(--bg-color);\n",
              "    border: none;\n",
              "    border-radius: 50%;\n",
              "    cursor: pointer;\n",
              "    display: none;\n",
              "    fill: var(--fill-color);\n",
              "    height: 32px;\n",
              "    padding: 0;\n",
              "    width: 32px;\n",
              "  }\n",
              "\n",
              "  .colab-df-quickchart:hover {\n",
              "    background-color: var(--hover-bg-color);\n",
              "    box-shadow: 0 1px 2px rgba(60, 64, 67, 0.3), 0 1px 3px 1px rgba(60, 64, 67, 0.15);\n",
              "    fill: var(--button-hover-fill-color);\n",
              "  }\n",
              "\n",
              "  .colab-df-quickchart-complete:disabled,\n",
              "  .colab-df-quickchart-complete:disabled:hover {\n",
              "    background-color: var(--disabled-bg-color);\n",
              "    fill: var(--disabled-fill-color);\n",
              "    box-shadow: none;\n",
              "  }\n",
              "\n",
              "  .colab-df-spinner {\n",
              "    border: 2px solid var(--fill-color);\n",
              "    border-color: transparent;\n",
              "    border-bottom-color: var(--fill-color);\n",
              "    animation:\n",
              "      spin 1s steps(1) infinite;\n",
              "  }\n",
              "\n",
              "  @keyframes spin {\n",
              "    0% {\n",
              "      border-color: transparent;\n",
              "      border-bottom-color: var(--fill-color);\n",
              "      border-left-color: var(--fill-color);\n",
              "    }\n",
              "    20% {\n",
              "      border-color: transparent;\n",
              "      border-left-color: var(--fill-color);\n",
              "      border-top-color: var(--fill-color);\n",
              "    }\n",
              "    30% {\n",
              "      border-color: transparent;\n",
              "      border-left-color: var(--fill-color);\n",
              "      border-top-color: var(--fill-color);\n",
              "      border-right-color: var(--fill-color);\n",
              "    }\n",
              "    40% {\n",
              "      border-color: transparent;\n",
              "      border-right-color: var(--fill-color);\n",
              "      border-top-color: var(--fill-color);\n",
              "    }\n",
              "    60% {\n",
              "      border-color: transparent;\n",
              "      border-right-color: var(--fill-color);\n",
              "    }\n",
              "    80% {\n",
              "      border-color: transparent;\n",
              "      border-right-color: var(--fill-color);\n",
              "      border-bottom-color: var(--fill-color);\n",
              "    }\n",
              "    90% {\n",
              "      border-color: transparent;\n",
              "      border-bottom-color: var(--fill-color);\n",
              "    }\n",
              "  }\n",
              "</style>\n",
              "\n",
              "      <script>\n",
              "        async function quickchart(key) {\n",
              "          const quickchartButtonEl =\n",
              "            document.querySelector('#' + key + ' button');\n",
              "          quickchartButtonEl.disabled = true;  // To prevent multiple clicks.\n",
              "          quickchartButtonEl.classList.add('colab-df-spinner');\n",
              "          try {\n",
              "            const charts = await google.colab.kernel.invokeFunction(\n",
              "                'suggestCharts', [key], {});\n",
              "          } catch (error) {\n",
              "            console.error('Error during call to suggestCharts:', error);\n",
              "          }\n",
              "          quickchartButtonEl.classList.remove('colab-df-spinner');\n",
              "          quickchartButtonEl.classList.add('colab-df-quickchart-complete');\n",
              "        }\n",
              "        (() => {\n",
              "          let quickchartButtonEl =\n",
              "            document.querySelector('#df-6696c211-89fe-4c29-be4e-eb56e569718a button');\n",
              "          quickchartButtonEl.style.display =\n",
              "            google.colab.kernel.accessAllowed ? 'block' : 'none';\n",
              "        })();\n",
              "      </script>\n",
              "    </div>\n",
              "\n",
              "    </div>\n",
              "  </div>\n"
            ],
            "application/vnd.google.colaboratory.intrinsic+json": {
              "type": "dataframe",
              "variable_name": "df_students",
              "summary": "{\n  \"name\": \"df_students\",\n  \"rows\": 35,\n  \"fields\": [\n    {\n      \"column\": \"id\",\n      \"properties\": {\n        \"dtype\": \"number\",\n        \"std\": 10,\n        \"min\": 1,\n        \"max\": 35,\n        \"num_unique_values\": 35,\n        \"samples\": [\n          27,\n          14,\n          25\n        ],\n        \"semantic_type\": \"\",\n        \"description\": \"\"\n      }\n    },\n    {\n      \"column\": \"name\",\n      \"properties\": {\n        \"dtype\": \"string\",\n        \"num_unique_values\": 34,\n        \"samples\": [\n          \"Gimmy\",\n          \"Jackly\",\n          \"Tess Played\"\n        ],\n        \"semantic_type\": \"\",\n        \"description\": \"\"\n      }\n    },\n    {\n      \"column\": \"class\",\n      \"properties\": {\n        \"dtype\": \"category\",\n        \"num_unique_values\": 8,\n        \"samples\": [\n          \"Three\",\n          \"Seven\",\n          \"Four\"\n        ],\n        \"semantic_type\": \"\",\n        \"description\": \"\"\n      }\n    },\n    {\n      \"column\": \"mark\",\n      \"properties\": {\n        \"dtype\": \"number\",\n        \"std\": 16,\n        \"min\": 18,\n        \"max\": 96,\n        \"num_unique_values\": 17,\n        \"samples\": [\n          75,\n          85,\n          89\n        ],\n        \"semantic_type\": \"\",\n        \"description\": \"\"\n      }\n    },\n    {\n      \"column\": \"gender\",\n      \"properties\": {\n        \"dtype\": \"category\",\n        \"num_unique_values\": 2,\n        \"samples\": [\n          \"male\",\n          \"female\"\n        ],\n        \"semantic_type\": \"\",\n        \"description\": \"\"\n      }\n    }\n  ]\n}"
            }
          },
          "metadata": {},
          "execution_count": 21
        }
      ],
      "source": [
        "# 1. Read the file into a table called df\n",
        "df_students = pd.read_csv('student.csv')\n",
        "\n",
        "# 3. Peek at the first 5 rows to check your data\n",
        "df_students.head()"
      ]
    },
    {
      "cell_type": "markdown",
      "id": "41dbeb84",
      "metadata": {
        "id": "41dbeb84"
      },
      "source": [
        "**Exercise 3.1:** Imagine you have another CSV file named `courses.csv` with columns `Course_ID`, `Course_Name`, `Credits`. Write the Python code to load this hypothetical file into a DataFrame called `df_courses`."
      ]
    },
    {
      "cell_type": "code",
      "execution_count": 22,
      "id": "ddaa4d20",
      "metadata": {
        "id": "ddaa4d20",
        "colab": {
          "base_uri": "https://localhost:8080/",
          "height": 321
        },
        "outputId": "34f8dbd4-c558-4b2b-a9ef-385c14cf32f6"
      },
      "outputs": [
        {
          "output_type": "error",
          "ename": "FileNotFoundError",
          "evalue": "[Errno 2] No such file or directory: 'courses.csv'",
          "traceback": [
            "\u001b[0;31m---------------------------------------------------------------------------\u001b[0m",
            "\u001b[0;31mFileNotFoundError\u001b[0m                         Traceback (most recent call last)",
            "\u001b[0;32m/tmp/ipython-input-22-3238741835.py\u001b[0m in \u001b[0;36m<cell line: 0>\u001b[0;34m()\u001b[0m\n\u001b[1;32m      1\u001b[0m \u001b[0;31m# Exercise 3.1 Code Cell\u001b[0m\u001b[0;34m\u001b[0m\u001b[0;34m\u001b[0m\u001b[0m\n\u001b[0;32m----> 2\u001b[0;31m \u001b[0mdf_courses\u001b[0m \u001b[0;34m=\u001b[0m \u001b[0mpd\u001b[0m\u001b[0;34m.\u001b[0m\u001b[0mread_csv\u001b[0m\u001b[0;34m(\u001b[0m\u001b[0;34m'courses.csv'\u001b[0m\u001b[0;34m)\u001b[0m\u001b[0;34m\u001b[0m\u001b[0;34m\u001b[0m\u001b[0m\n\u001b[0m\u001b[1;32m      3\u001b[0m \u001b[0mdf_courses\u001b[0m\u001b[0;34m.\u001b[0m\u001b[0mhead\u001b[0m\u001b[0;34m(\u001b[0m\u001b[0;34m)\u001b[0m\u001b[0;34m\u001b[0m\u001b[0;34m\u001b[0m\u001b[0m\n",
            "\u001b[0;32m/usr/local/lib/python3.11/dist-packages/pandas/io/parsers/readers.py\u001b[0m in \u001b[0;36mread_csv\u001b[0;34m(filepath_or_buffer, sep, delimiter, header, names, index_col, usecols, dtype, engine, converters, true_values, false_values, skipinitialspace, skiprows, skipfooter, nrows, na_values, keep_default_na, na_filter, verbose, skip_blank_lines, parse_dates, infer_datetime_format, keep_date_col, date_parser, date_format, dayfirst, cache_dates, iterator, chunksize, compression, thousands, decimal, lineterminator, quotechar, quoting, doublequote, escapechar, comment, encoding, encoding_errors, dialect, on_bad_lines, delim_whitespace, low_memory, memory_map, float_precision, storage_options, dtype_backend)\u001b[0m\n\u001b[1;32m   1024\u001b[0m     \u001b[0mkwds\u001b[0m\u001b[0;34m.\u001b[0m\u001b[0mupdate\u001b[0m\u001b[0;34m(\u001b[0m\u001b[0mkwds_defaults\u001b[0m\u001b[0;34m)\u001b[0m\u001b[0;34m\u001b[0m\u001b[0;34m\u001b[0m\u001b[0m\n\u001b[1;32m   1025\u001b[0m \u001b[0;34m\u001b[0m\u001b[0m\n\u001b[0;32m-> 1026\u001b[0;31m     \u001b[0;32mreturn\u001b[0m \u001b[0m_read\u001b[0m\u001b[0;34m(\u001b[0m\u001b[0mfilepath_or_buffer\u001b[0m\u001b[0;34m,\u001b[0m \u001b[0mkwds\u001b[0m\u001b[0;34m)\u001b[0m\u001b[0;34m\u001b[0m\u001b[0;34m\u001b[0m\u001b[0m\n\u001b[0m\u001b[1;32m   1027\u001b[0m \u001b[0;34m\u001b[0m\u001b[0m\n\u001b[1;32m   1028\u001b[0m \u001b[0;34m\u001b[0m\u001b[0m\n",
            "\u001b[0;32m/usr/local/lib/python3.11/dist-packages/pandas/io/parsers/readers.py\u001b[0m in \u001b[0;36m_read\u001b[0;34m(filepath_or_buffer, kwds)\u001b[0m\n\u001b[1;32m    618\u001b[0m \u001b[0;34m\u001b[0m\u001b[0m\n\u001b[1;32m    619\u001b[0m     \u001b[0;31m# Create the parser.\u001b[0m\u001b[0;34m\u001b[0m\u001b[0;34m\u001b[0m\u001b[0m\n\u001b[0;32m--> 620\u001b[0;31m     \u001b[0mparser\u001b[0m \u001b[0;34m=\u001b[0m \u001b[0mTextFileReader\u001b[0m\u001b[0;34m(\u001b[0m\u001b[0mfilepath_or_buffer\u001b[0m\u001b[0;34m,\u001b[0m \u001b[0;34m**\u001b[0m\u001b[0mkwds\u001b[0m\u001b[0;34m)\u001b[0m\u001b[0;34m\u001b[0m\u001b[0;34m\u001b[0m\u001b[0m\n\u001b[0m\u001b[1;32m    621\u001b[0m \u001b[0;34m\u001b[0m\u001b[0m\n\u001b[1;32m    622\u001b[0m     \u001b[0;32mif\u001b[0m \u001b[0mchunksize\u001b[0m \u001b[0;32mor\u001b[0m \u001b[0miterator\u001b[0m\u001b[0;34m:\u001b[0m\u001b[0;34m\u001b[0m\u001b[0;34m\u001b[0m\u001b[0m\n",
            "\u001b[0;32m/usr/local/lib/python3.11/dist-packages/pandas/io/parsers/readers.py\u001b[0m in \u001b[0;36m__init__\u001b[0;34m(self, f, engine, **kwds)\u001b[0m\n\u001b[1;32m   1618\u001b[0m \u001b[0;34m\u001b[0m\u001b[0m\n\u001b[1;32m   1619\u001b[0m         \u001b[0mself\u001b[0m\u001b[0;34m.\u001b[0m\u001b[0mhandles\u001b[0m\u001b[0;34m:\u001b[0m \u001b[0mIOHandles\u001b[0m \u001b[0;34m|\u001b[0m \u001b[0;32mNone\u001b[0m \u001b[0;34m=\u001b[0m \u001b[0;32mNone\u001b[0m\u001b[0;34m\u001b[0m\u001b[0;34m\u001b[0m\u001b[0m\n\u001b[0;32m-> 1620\u001b[0;31m         \u001b[0mself\u001b[0m\u001b[0;34m.\u001b[0m\u001b[0m_engine\u001b[0m \u001b[0;34m=\u001b[0m \u001b[0mself\u001b[0m\u001b[0;34m.\u001b[0m\u001b[0m_make_engine\u001b[0m\u001b[0;34m(\u001b[0m\u001b[0mf\u001b[0m\u001b[0;34m,\u001b[0m \u001b[0mself\u001b[0m\u001b[0;34m.\u001b[0m\u001b[0mengine\u001b[0m\u001b[0;34m)\u001b[0m\u001b[0;34m\u001b[0m\u001b[0;34m\u001b[0m\u001b[0m\n\u001b[0m\u001b[1;32m   1621\u001b[0m \u001b[0;34m\u001b[0m\u001b[0m\n\u001b[1;32m   1622\u001b[0m     \u001b[0;32mdef\u001b[0m \u001b[0mclose\u001b[0m\u001b[0;34m(\u001b[0m\u001b[0mself\u001b[0m\u001b[0;34m)\u001b[0m \u001b[0;34m->\u001b[0m \u001b[0;32mNone\u001b[0m\u001b[0;34m:\u001b[0m\u001b[0;34m\u001b[0m\u001b[0;34m\u001b[0m\u001b[0m\n",
            "\u001b[0;32m/usr/local/lib/python3.11/dist-packages/pandas/io/parsers/readers.py\u001b[0m in \u001b[0;36m_make_engine\u001b[0;34m(self, f, engine)\u001b[0m\n\u001b[1;32m   1878\u001b[0m                 \u001b[0;32mif\u001b[0m \u001b[0;34m\"b\"\u001b[0m \u001b[0;32mnot\u001b[0m \u001b[0;32min\u001b[0m \u001b[0mmode\u001b[0m\u001b[0;34m:\u001b[0m\u001b[0;34m\u001b[0m\u001b[0;34m\u001b[0m\u001b[0m\n\u001b[1;32m   1879\u001b[0m                     \u001b[0mmode\u001b[0m \u001b[0;34m+=\u001b[0m \u001b[0;34m\"b\"\u001b[0m\u001b[0;34m\u001b[0m\u001b[0;34m\u001b[0m\u001b[0m\n\u001b[0;32m-> 1880\u001b[0;31m             self.handles = get_handle(\n\u001b[0m\u001b[1;32m   1881\u001b[0m                 \u001b[0mf\u001b[0m\u001b[0;34m,\u001b[0m\u001b[0;34m\u001b[0m\u001b[0;34m\u001b[0m\u001b[0m\n\u001b[1;32m   1882\u001b[0m                 \u001b[0mmode\u001b[0m\u001b[0;34m,\u001b[0m\u001b[0;34m\u001b[0m\u001b[0;34m\u001b[0m\u001b[0m\n",
            "\u001b[0;32m/usr/local/lib/python3.11/dist-packages/pandas/io/common.py\u001b[0m in \u001b[0;36mget_handle\u001b[0;34m(path_or_buf, mode, encoding, compression, memory_map, is_text, errors, storage_options)\u001b[0m\n\u001b[1;32m    871\u001b[0m         \u001b[0;32mif\u001b[0m \u001b[0mioargs\u001b[0m\u001b[0;34m.\u001b[0m\u001b[0mencoding\u001b[0m \u001b[0;32mand\u001b[0m \u001b[0;34m\"b\"\u001b[0m \u001b[0;32mnot\u001b[0m \u001b[0;32min\u001b[0m \u001b[0mioargs\u001b[0m\u001b[0;34m.\u001b[0m\u001b[0mmode\u001b[0m\u001b[0;34m:\u001b[0m\u001b[0;34m\u001b[0m\u001b[0;34m\u001b[0m\u001b[0m\n\u001b[1;32m    872\u001b[0m             \u001b[0;31m# Encoding\u001b[0m\u001b[0;34m\u001b[0m\u001b[0;34m\u001b[0m\u001b[0m\n\u001b[0;32m--> 873\u001b[0;31m             handle = open(\n\u001b[0m\u001b[1;32m    874\u001b[0m                 \u001b[0mhandle\u001b[0m\u001b[0;34m,\u001b[0m\u001b[0;34m\u001b[0m\u001b[0;34m\u001b[0m\u001b[0m\n\u001b[1;32m    875\u001b[0m                 \u001b[0mioargs\u001b[0m\u001b[0;34m.\u001b[0m\u001b[0mmode\u001b[0m\u001b[0;34m,\u001b[0m\u001b[0;34m\u001b[0m\u001b[0;34m\u001b[0m\u001b[0m\n",
            "\u001b[0;31mFileNotFoundError\u001b[0m: [Errno 2] No such file or directory: 'courses.csv'"
          ]
        }
      ],
      "source": [
        "# Exercise 3.1 Code Cell\n",
        "df_courses = pd.read_csv('courses.csv')\n",
        "df_courses.head()"
      ]
    },
    {
      "cell_type": "markdown",
      "id": "119b034b",
      "metadata": {
        "id": "119b034b"
      },
      "source": [
        "---\n",
        "# **4. Inspecting Your Data (Initial Exploration) 🕵️‍♀️**\n",
        "\n",
        "Once your data is loaded, the first step is to inspect it to understand its structure, content, and quality. Pandas provides several useful functions for this:\n",
        "\n",
        "* `df.head(n)`: View the first `n` rows (default is 5).\n",
        "* `df.tail(n)`: View the last `n` rows (default is 5).\n",
        "* `df.shape`: Get the dimensions (number of rows, number of columns).\n",
        "* `df.info()`: Get a concise summary including data types, non-null values, and memory usage.\n",
        "* `df.dtypes`: Check the data type of each column.\n",
        "* `df.columns`: View the column names.\n",
        "* `df.describe()`: Generate descriptive statistics for numerical columns (count, mean, std, min, max, quartiles)."
      ]
    },
    {
      "cell_type": "code",
      "execution_count": 23,
      "id": "74a76769",
      "metadata": {
        "id": "74a76769",
        "colab": {
          "base_uri": "https://localhost:8080/",
          "height": 228
        },
        "outputId": "c9678aa8-25b3-4d41-8728-7efca3657853"
      },
      "outputs": [
        {
          "output_type": "stream",
          "name": "stdout",
          "text": [
            "First 3 rows:\n"
          ]
        },
        {
          "output_type": "error",
          "ename": "NameError",
          "evalue": "name 'df' is not defined",
          "traceback": [
            "\u001b[0;31m---------------------------------------------------------------------------\u001b[0m",
            "\u001b[0;31mNameError\u001b[0m                                 Traceback (most recent call last)",
            "\u001b[0;32m/tmp/ipython-input-23-3495335211.py\u001b[0m in \u001b[0;36m<cell line: 0>\u001b[0;34m()\u001b[0m\n\u001b[1;32m      1\u001b[0m \u001b[0;31m# 1. Print the first 3 rows\u001b[0m\u001b[0;34m\u001b[0m\u001b[0;34m\u001b[0m\u001b[0m\n\u001b[1;32m      2\u001b[0m \u001b[0mprint\u001b[0m\u001b[0;34m(\u001b[0m\u001b[0;34m\"First 3 rows:\"\u001b[0m\u001b[0;34m)\u001b[0m\u001b[0;34m\u001b[0m\u001b[0;34m\u001b[0m\u001b[0m\n\u001b[0;32m----> 3\u001b[0;31m \u001b[0mprint\u001b[0m\u001b[0;34m(\u001b[0m\u001b[0mdf\u001b[0m\u001b[0;34m.\u001b[0m\u001b[0mhead\u001b[0m\u001b[0;34m(\u001b[0m\u001b[0;36m3\u001b[0m\u001b[0;34m)\u001b[0m\u001b[0;34m)\u001b[0m                   \u001b[0;31m# head() returns a DataFrame, so we wrap it in print()\u001b[0m\u001b[0;34m\u001b[0m\u001b[0;34m\u001b[0m\u001b[0m\n\u001b[0m\u001b[1;32m      4\u001b[0m \u001b[0;34m\u001b[0m\u001b[0m\n\u001b[1;32m      5\u001b[0m \u001b[0;31m# 2. Print the last 2 rows\u001b[0m\u001b[0;34m\u001b[0m\u001b[0;34m\u001b[0m\u001b[0m\n",
            "\u001b[0;31mNameError\u001b[0m: name 'df' is not defined"
          ]
        }
      ],
      "source": [
        "# 1. Print the first 3 rows\n",
        "print(\"First 3 rows:\")\n",
        "print(df.head(3))                   # head() returns a DataFrame, so we wrap it in print()\n",
        "\n",
        "# 2. Print the last 2 rows\n",
        "print(\"\\nLast 2 rows:\")\n",
        "print(df.tail(2))                   # tail() same as head(), needs print()\n",
        "\n",
        "# 3. Print the shape (rows, columns)\n",
        "print(\"\\nShape (rows, columns):\", df.shape)\n",
        "\n",
        "# 4. Print info (counts & data types)\n",
        "print(\"\\nInfo:\")\n",
        "df.info()                           # info() prints on its own; don’t wrap in print()\n",
        "\n",
        "# 5. Print each column’s data type\n",
        "print(\"\\nData types:\")\n",
        "print(df.dtypes)                    # dtypes is a Series, so we wrap it in print()\n",
        "\n",
        "# 6. Print all column names\n",
        "print(\"\\nColumns:\")\n",
        "print(list(df.columns))             # convert Index to list for cleaner printout\n",
        "\n",
        "# 7. Print descriptive stats for numeric columns\n",
        "print(\"\\nDescriptive stats:\")\n",
        "print(df.describe())                # describe() returns a DataFrame, so we wrap it in print()\n"
      ]
    },
    {
      "cell_type": "markdown",
      "id": "acccc5ce",
      "metadata": {
        "id": "acccc5ce"
      },
      "source": [
        "**Exercise 4.1:** Using the `df_students` DataFrame, display:\n",
        "1. The first 7 rows.\n",
        "2. The last 4 rows.\n",
        "3. Only the column names."
      ]
    },
    {
      "cell_type": "code",
      "execution_count": 24,
      "id": "59ddde2c",
      "metadata": {
        "id": "59ddde2c",
        "colab": {
          "base_uri": "https://localhost:8080/"
        },
        "outputId": "5143439a-ce07-449d-dbec-ca5174b7d9d1"
      },
      "outputs": [
        {
          "output_type": "stream",
          "name": "stdout",
          "text": [
            "First 7 rows:\n",
            "\n",
            "   id         name  class  mark  gender\n",
            "0   1     John Deo   Four    75  female\n",
            "1   2     Max Ruin  Three    85    male\n",
            "2   3       Arnold  Three    55    male\n",
            "3   4   Krish Star   Four    60  female\n",
            "4   5    John Mike   Four    60  female\n",
            "5   6    Alex John   Four    55    male\n",
            "6   7  My John Rob  Fifth    78    male\n",
            "\n",
            "Last 4 rows:\n",
            "\n",
            "    id        name  class  mark  gender\n",
            "31  32   Binn Rott  Seven    90  female\n",
            "32  33   Kenn Rein    Six    96  female\n",
            "33  34    Gain Toe  Seven    69    male\n",
            "34  35  Rows Noump    Six    88  female\n",
            "\n",
            "Column names:\n",
            "\n",
            "['id', 'name', 'class', 'mark', 'gender']\n"
          ]
        }
      ],
      "source": [
        "# Exercise 4.1 Code Cell\n",
        "print(\"First 7 rows:\\n\")\n",
        "print(df_students.head(7))\n",
        "\n",
        "print(\"\\nLast 4 rows:\\n\")\n",
        "print(df_students.tail(4))\n",
        "\n",
        "print(\"\\nColumn names:\\n\")\n",
        "print(list(df_students.columns))"
      ]
    },
    {
      "cell_type": "markdown",
      "id": "c8f8fdbc",
      "metadata": {
        "id": "c8f8fdbc"
      },
      "source": [
        "**Exercise 4.2:** For the `df_students` DataFrame:\n",
        "1. Get a full summary using `info()`.\n",
        "2. Get descriptive statistics for only the 'mark' column. (Hint: `df['column_name'].describe()`)"
      ]
    },
    {
      "cell_type": "code",
      "execution_count": 25,
      "id": "37ae26b6",
      "metadata": {
        "id": "37ae26b6",
        "colab": {
          "base_uri": "https://localhost:8080/"
        },
        "outputId": "b11ac7b6-7871-4237-c276-c317c5f13960"
      },
      "outputs": [
        {
          "output_type": "stream",
          "name": "stdout",
          "text": [
            "Full summary:\n",
            "\n",
            "<class 'pandas.core.frame.DataFrame'>\n",
            "RangeIndex: 35 entries, 0 to 34\n",
            "Data columns (total 5 columns):\n",
            " #   Column  Non-Null Count  Dtype \n",
            "---  ------  --------------  ----- \n",
            " 0   id      35 non-null     int64 \n",
            " 1   name    34 non-null     object\n",
            " 2   class   34 non-null     object\n",
            " 3   mark    35 non-null     int64 \n",
            " 4   gender  33 non-null     object\n",
            "dtypes: int64(2), object(3)\n",
            "memory usage: 1.5+ KB\n",
            "None\n",
            "\n",
            "Descriptive stats for 'mark' column:\n",
            "\n",
            "count    35.000000\n",
            "mean     74.657143\n",
            "std      16.401117\n",
            "min      18.000000\n",
            "25%      62.500000\n",
            "50%      79.000000\n",
            "75%      88.000000\n",
            "max      96.000000\n",
            "Name: mark, dtype: float64\n"
          ]
        }
      ],
      "source": [
        "# Exercise 4.2 Code Cell\n",
        "print(\"Full summary:\\n\")\n",
        "print(df_students.info())\n",
        "\n",
        "print(\"\\nDescriptive stats for 'mark' column:\\n\")\n",
        "print(df_students['mark'].describe())"
      ]
    },
    {
      "cell_type": "markdown",
      "source": [
        "## 5. Basic Data Selection in Pandas (showing first 5 rows)\n",
        "\n",
        "This example shows five simple ways to grab parts of your table and see the first five results:  \n",
        "- **Columns by label (`loc`)** – pick one (`df.loc[:, 'name']`) or two columns (`df.loc[:, ['name','mark']]`) and add `.head()`.  \n",
        "- **Columns by index (`iloc`)** – pick the first column (`df.iloc[:, 0]`) or first two columns (`df.iloc[:, 0:2]`) and add `.head()`.  \n",
        "- **Rows by label (`loc`)** – get a single row (`df.loc[2]`), an inclusive range (`df.loc[2:4]`), or specific rows (`df.loc[[0,3,5]]`), using `.head()` when you have multiple.  \n",
        "- **Rows by position (`iloc`)** – grab the second row (`df.iloc[1]`), a slice of rows (`df.iloc[0:3]`), or a list (`df.iloc[[0,3,5]]`), with `.head()` for multi-row outputs.  \n",
        "- **Rows & columns by position (`iloc`)** – slice rows and columns at once, e.g. `df.iloc[0:3, 0:2].head()` to see the first three rows and two columns.  \n"
      ],
      "metadata": {
        "id": "hoYDvYruovU8"
      },
      "id": "hoYDvYruovU8"
    },
    {
      "cell_type": "code",
      "execution_count": null,
      "id": "bd4e046d",
      "metadata": {
        "id": "bd4e046d"
      },
      "outputs": [],
      "source": [
        "# 1. Select columns by label with loc\n",
        "one_col   = df.loc[:, 'name']              # Single column → Series\n",
        "two_cols  = df.loc[:, ['name', 'mark']]    # Two columns → DataFrame\n",
        "\n",
        "print(\"1. Names (first 5):\")\n",
        "print(one_col.head(), \"\\n\")\n",
        "\n",
        "print(\"2. Name & Mark (first 5):\")\n",
        "print(two_cols.head(), \"\\n\")\n",
        "\n",
        "\n",
        "# 2. Select rows by label with loc\n",
        "row_2     = df.loc[2]                      # Row with index label 2\n",
        "rows_2_4  = df.loc[2:4]                    # Rows 2,3,4 (inclusive)\n",
        "some_rows = df.loc[[0, 3, 5]]              # Specific rows by label\n",
        "\n",
        "print(\"3. Row at label 2:\")\n",
        "print(row_2, \"\\n\")\n",
        "\n",
        "print(\"4. Rows 2–4 (first 5 of that slice):\")\n",
        "print(rows_2_4.head(), \"\\n\")\n",
        "\n",
        "print(\"5. Rows [0, 3, 5] (first 5):\")\n",
        "print(some_rows.head(), \"\\n\")\n",
        "\n",
        "\n",
        "# 3. Select columns by position with iloc\n",
        "col_0      = df.iloc[:, 0]              # First column → Series\n",
        "cols_0_2   = df.iloc[:, 0:2]            # First two columns → DataFrame\n",
        "some_cols  = df.iloc[:, [0, 2]]         # First and third columns → DataFrame\n",
        "\n",
        "print(\"6. Column at position 0 (first 5):\")\n",
        "print(col_0.head(), \"\\n\")\n",
        "\n",
        "print(\"7. Columns 0–1 (first 5):\")\n",
        "print(cols_0_2.head(), \"\\n\")\n",
        "\n",
        "print(\"8. Columns at positions [0, 2] (first 5):\")\n",
        "print(some_cols.head(), \"\\n\")\n",
        "\n",
        "\n",
        "# 4. Select rows by position with iloc\n",
        "row_pos1  = df.iloc[1]                     # Second row (position 1)\n",
        "rows_0_2  = df.iloc[0:3]                   # Rows 0,1,2 (end exclusive)\n",
        "some_pos  = df.iloc[[0, 3, 5]]             # Specific rows by position\n",
        "\n",
        "print(\"9. Row at position 1:\")\n",
        "print(row_pos1, \"\\n\")\n",
        "\n",
        "print(\"10. Rows 0–2 (first 5 of that slice):\")\n",
        "print(rows_0_2.head(), \"\\n\")\n",
        "\n",
        "print(\"11. Positions [0, 3, 5] (first 5):\")\n",
        "print(some_pos.head(), \"\\n\")\n",
        "\n",
        "\n",
        "# 5. Combine row & column selection\n",
        "sub_loc   = df.loc[1:3, ['name', 'class']] # Labels 1–3, columns name & class\n",
        "sub_iloc  = df.iloc[0:3, 0:2]              # First 3 rows, first 2 columns\n",
        "\n",
        "print(\"12. loc rows 1–3 & cols name,class (first 5):\")\n",
        "print(sub_loc.head(), \"\\n\")\n",
        "\n",
        "print(\"13. iloc rows 0–3 & cols 0–2 (first 5):\")\n",
        "print(sub_iloc.head(), \"\\n\")\n",
        "\n"
      ]
    },
    {
      "cell_type": "markdown",
      "id": "f179b185",
      "metadata": {
        "id": "f179b185"
      },
      "source": [
        "**Exercise 5.1:** From `df_students`:\n",
        "1. Select and display only the 'class' column.\n",
        "2. Select and display the 'name', 'mark', and 'gender' columns for all students."
      ]
    },
    {
      "cell_type": "code",
      "execution_count": 26,
      "id": "a1cf4834",
      "metadata": {
        "id": "a1cf4834",
        "colab": {
          "base_uri": "https://localhost:8080/"
        },
        "outputId": "90d1230b-51de-47be-f3cc-cc7859167e32"
      },
      "outputs": [
        {
          "output_type": "stream",
          "name": "stdout",
          "text": [
            "0      Four\n",
            "1     Three\n",
            "2     Three\n",
            "3      Four\n",
            "4      Four\n",
            "5      Four\n",
            "6     Fifth\n",
            "7      Five\n",
            "8       Six\n",
            "9      Four\n",
            "10      Six\n",
            "11      Six\n",
            "12    Seven\n",
            "13    Seven\n",
            "14      NaN\n",
            "15     Four\n",
            "16      Six\n",
            "17     Five\n",
            "18     Nine\n",
            "19     Nine\n",
            "20     Four\n",
            "21    Seven\n",
            "22    Eight\n",
            "23    Seven\n",
            "24    Seven\n",
            "25    Seven\n",
            "26    Three\n",
            "27    Seven\n",
            "28    Seven\n",
            "29      Six\n",
            "30     Four\n",
            "31    Seven\n",
            "32      Six\n",
            "33    Seven\n",
            "34      Six\n",
            "Name: class, dtype: object\n",
            "           name  mark  gender\n",
            "0      John Deo    75  female\n",
            "1      Max Ruin    85    male\n",
            "2        Arnold    55    male\n",
            "3    Krish Star    60  female\n",
            "4     John Mike    60  female\n",
            "5     Alex John    55    male\n",
            "6   My John Rob    78    male\n",
            "7        Asruid    85    male\n",
            "8       Tes Qry    78     NaN\n",
            "9      Big John    55  female\n",
            "10       Ronald    89  female\n",
            "11        Recky    94  female\n",
            "12          Kty    88  female\n",
            "13         Bigy    88  female\n",
            "14     Tade Row    88    male\n",
            "15        Gimmy    88    male\n",
            "16        Tumyu    54    male\n",
            "17        Honny    75    male\n",
            "18        Tinny    18    male\n",
            "19       Jackly    65  female\n",
            "20   Babby John    69  female\n",
            "21       Reggid    55  female\n",
            "22        Herod    79    male\n",
            "23    Tiddy Now    78    male\n",
            "24     Giff Tow    88    male\n",
            "25       Crelea    79    male\n",
            "26          NaN    81     NaN\n",
            "27    Rojj Base    86  female\n",
            "28  Tess Played    55    male\n",
            "29    Reppy Red    79  female\n",
            "30  Marry Toeey    88    male\n",
            "31    Binn Rott    90  female\n",
            "32    Kenn Rein    96  female\n",
            "33     Gain Toe    69    male\n",
            "34   Rows Noump    88  female\n"
          ]
        }
      ],
      "source": [
        "# Exercise 5.1 Code Cell\n",
        "print(df_students['class'])\n",
        "\n",
        "print(df_students[['name', 'mark', 'gender']])"
      ]
    },
    {
      "cell_type": "markdown",
      "id": "8b279590",
      "metadata": {
        "id": "8b279590"
      },
      "source": [
        "**Exercise 5.2:** From `df_students`:\n",
        "1. Using `loc`, select the data for students at index positions 2, 4, and 6 (if these indices exist in your DataFrame's index), showing only their 'name' and 'mark'.\n",
        "2. Using `iloc`, select the students in rows 0 through 4 (inclusive for start, exclusive for end for `iloc`) and columns 1 through 3 (exclusive for end for `iloc`)."
      ]
    },
    {
      "cell_type": "code",
      "execution_count": 27,
      "id": "443632e0",
      "metadata": {
        "id": "443632e0",
        "colab": {
          "base_uri": "https://localhost:8080/"
        },
        "outputId": "438425de-e77d-4c72-c5ba-bbcc337b9579"
      },
      "outputs": [
        {
          "output_type": "stream",
          "name": "stdout",
          "text": [
            "          name  mark\n",
            "2       Arnold    55\n",
            "4    John Mike    60\n",
            "6  My John Rob    78\n",
            "         name  class  mark\n",
            "0    John Deo   Four    75\n",
            "1    Max Ruin  Three    85\n",
            "2      Arnold  Three    55\n",
            "3  Krish Star   Four    60\n",
            "4   John Mike   Four    60\n"
          ]
        }
      ],
      "source": [
        "# Exercise 5.2 Code Cell\n",
        "print(df_students.loc[[2, 4, 6], ['name', 'mark']])\n",
        "\n",
        "print(df_students.iloc[0:5, 1:4])"
      ]
    },
    {
      "cell_type": "markdown",
      "id": "ef72fa2d",
      "metadata": {
        "id": "ef72fa2d"
      },
      "source": [
        "### **6. Filtering DataFrames (Simple Conditions)**\n",
        "\n",
        "Filtering in pandas means selecting specific rows from your data based on a rule or condition. This is useful when you want to look at a smaller part of your data that meets certain criteria.\n",
        "\n",
        "For example, you might want to see:\n",
        "- only the students who scored more than 80\n",
        "- only the students who are in class \"Four\"\n",
        "- only the students who scored less than 60\n",
        "\n",
        "#### Basic Syntax\n",
        "\n",
        "df[condition]\n"
      ]
    },
    {
      "cell_type": "code",
      "execution_count": 28,
      "id": "6d071769",
      "metadata": {
        "id": "6d071769",
        "colab": {
          "base_uri": "https://localhost:8080/",
          "height": 211
        },
        "outputId": "108cbac8-e648-4633-976c-89986f3883d2"
      },
      "outputs": [
        {
          "output_type": "error",
          "ename": "NameError",
          "evalue": "name 'df' is not defined",
          "traceback": [
            "\u001b[0;31m---------------------------------------------------------------------------\u001b[0m",
            "\u001b[0;31mNameError\u001b[0m                                 Traceback (most recent call last)",
            "\u001b[0;32m/tmp/ipython-input-28-2485287387.py\u001b[0m in \u001b[0;36m<cell line: 0>\u001b[0;34m()\u001b[0m\n\u001b[1;32m      1\u001b[0m \u001b[0;31m# Students with marks greater than 80\u001b[0m\u001b[0;34m\u001b[0m\u001b[0;34m\u001b[0m\u001b[0m\n\u001b[0;32m----> 2\u001b[0;31m \u001b[0mhigh_scorers\u001b[0m \u001b[0;34m=\u001b[0m \u001b[0mdf\u001b[0m\u001b[0;34m[\u001b[0m\u001b[0mdf\u001b[0m\u001b[0;34m[\u001b[0m\u001b[0;34m'mark'\u001b[0m\u001b[0;34m]\u001b[0m \u001b[0;34m>\u001b[0m \u001b[0;36m80\u001b[0m\u001b[0;34m]\u001b[0m\u001b[0;34m\u001b[0m\u001b[0;34m\u001b[0m\u001b[0m\n\u001b[0m\u001b[1;32m      3\u001b[0m \u001b[0mprint\u001b[0m\u001b[0;34m(\u001b[0m\u001b[0;34m\"Students with mark > 80:\\n\"\u001b[0m\u001b[0;34m,\u001b[0m \u001b[0mhigh_scorers\u001b[0m\u001b[0;34m)\u001b[0m\u001b[0;34m\u001b[0m\u001b[0;34m\u001b[0m\u001b[0m\n\u001b[1;32m      4\u001b[0m \u001b[0;34m\u001b[0m\u001b[0m\n\u001b[1;32m      5\u001b[0m \u001b[0;31m# Students in class 'Four'\u001b[0m\u001b[0;34m\u001b[0m\u001b[0;34m\u001b[0m\u001b[0m\n",
            "\u001b[0;31mNameError\u001b[0m: name 'df' is not defined"
          ]
        }
      ],
      "source": [
        "# Students with marks greater than 80\n",
        "high_scorers = df[df['mark'] > 80]\n",
        "print(\"Students with mark > 80:\\n\", high_scorers)\n",
        "\n",
        "# Students in class 'Four'\n",
        "class_four = df[df['class'] == 'Four']\n",
        "print(\"\\nStudents in class 'Four':\\n\", class_four)\n",
        "\n",
        "# Students with marks less than 60\n",
        "low_mark = df[df['mark'] < 60]\n",
        "print(\"\\nStudents with mark < 60:\\n\", low_mark)"
      ]
    },
    {
      "cell_type": "markdown",
      "id": "7bca0a8a",
      "metadata": {
        "id": "7bca0a8a"
      },
      "source": [
        "**Exercise 6.1:** From `df_students`, select and display:\n",
        "1. All students who are 'male'.\n",
        "2. All students whose 'mark' is exactly 78."
      ]
    },
    {
      "cell_type": "code",
      "execution_count": 29,
      "id": "9963afd0",
      "metadata": {
        "id": "9963afd0",
        "colab": {
          "base_uri": "https://localhost:8080/"
        },
        "outputId": "e2623499-2941-48e4-d1ac-b1876a840423"
      },
      "outputs": [
        {
          "output_type": "stream",
          "name": "stdout",
          "text": [
            "Male students:\n",
            "    id         name  class  mark gender\n",
            "1    2     Max Ruin  Three    85   male\n",
            "2    3       Arnold  Three    55   male\n",
            "5    6    Alex John   Four    55   male\n",
            "6    7  My John Rob  Fifth    78   male\n",
            "7    8       Asruid   Five    85   male\n",
            "14  15     Tade Row    NaN    88   male\n",
            "15  16        Gimmy   Four    88   male\n",
            "16  17        Tumyu    Six    54   male\n",
            "17  18        Honny   Five    75   male\n",
            "18  19        Tinny   Nine    18   male\n",
            "22  23        Herod  Eight    79   male\n",
            "23  24    Tiddy Now  Seven    78   male\n",
            "24  25     Giff Tow  Seven    88   male\n",
            "25  26       Crelea  Seven    79   male\n",
            "28  29  Tess Played  Seven    55   male\n",
            "30  31  Marry Toeey   Four    88   male\n",
            "33  34     Gain Toe  Seven    69   male\n",
            "\n",
            "Students with mark 78:\n",
            "    id         name  class  mark gender\n",
            "6    7  My John Rob  Fifth    78   male\n",
            "8    9      Tes Qry    Six    78    NaN\n",
            "23  24    Tiddy Now  Seven    78   male\n"
          ]
        }
      ],
      "source": [
        "# Exercise 6.1 Code Cell\n",
        "male_students = df_students[df_students['gender'] == 'male']\n",
        "print(f\"Male students:\\n{male_students}\")\n",
        "\n",
        "mark_78 = df_students[df_students['mark'] == 78]\n",
        "print(f\"\\nStudents with mark 78:\\n{mark_78}\")"
      ]
    },
    {
      "cell_type": "markdown",
      "id": "313e2824",
      "metadata": {
        "id": "313e2824"
      },
      "source": [
        "**Exercise 6.2:** From `df_students`, select and display:\n",
        "1. All 'female' students who have a 'mark' greater than or equal to 70.\n",
        "2. All students who are in 'class' 'Six' OR 'class' 'Seven'."
      ]
    },
    {
      "cell_type": "code",
      "execution_count": 31,
      "id": "140b8273",
      "metadata": {
        "id": "140b8273",
        "colab": {
          "base_uri": "https://localhost:8080/"
        },
        "outputId": "93c66b3d-0912-4a6b-a5eb-6beee14b4edd"
      },
      "outputs": [
        {
          "output_type": "stream",
          "name": "stdout",
          "text": [
            "Female students with mark >= 70:\n",
            "    id        name  class  mark  gender\n",
            "0    1    John Deo   Four    75  female\n",
            "10  11      Ronald    Six    89  female\n",
            "11  12       Recky    Six    94  female\n",
            "12  13         Kty  Seven    88  female\n",
            "13  14        Bigy  Seven    88  female\n",
            "27  28   Rojj Base  Seven    86  female\n",
            "29  30   Reppy Red    Six    79  female\n",
            "31  32   Binn Rott  Seven    90  female\n",
            "32  33   Kenn Rein    Six    96  female\n",
            "34  35  Rows Noump    Six    88  female\n",
            "\n",
            "Students in class 'Six' or 'Seven':\n",
            "    id         name  class  mark  gender\n",
            "8    9      Tes Qry    Six    78     NaN\n",
            "10  11       Ronald    Six    89  female\n",
            "11  12        Recky    Six    94  female\n",
            "12  13          Kty  Seven    88  female\n",
            "13  14         Bigy  Seven    88  female\n",
            "16  17        Tumyu    Six    54    male\n",
            "21  22       Reggid  Seven    55  female\n",
            "23  24    Tiddy Now  Seven    78    male\n",
            "24  25     Giff Tow  Seven    88    male\n",
            "25  26       Crelea  Seven    79    male\n",
            "27  28    Rojj Base  Seven    86  female\n",
            "28  29  Tess Played  Seven    55    male\n",
            "29  30    Reppy Red    Six    79  female\n",
            "31  32    Binn Rott  Seven    90  female\n",
            "32  33    Kenn Rein    Six    96  female\n",
            "33  34     Gain Toe  Seven    69    male\n",
            "34  35   Rows Noump    Six    88  female\n",
            "\n",
            "Students with marks between 60 and 80:\n",
            "    id         name  class  mark  gender\n",
            "0    1     John Deo   Four    75  female\n",
            "6    7  My John Rob  Fifth    78    male\n",
            "8    9      Tes Qry    Six    78     NaN\n",
            "17  18        Honny   Five    75    male\n",
            "19  20       Jackly   Nine    65  female\n",
            "20  21   Babby John   Four    69  female\n",
            "22  23        Herod  Eight    79    male\n",
            "23  24    Tiddy Now  Seven    78    male\n",
            "25  26       Crelea  Seven    79    male\n",
            "29  30    Reppy Red    Six    79  female\n",
            "33  34     Gain Toe  Seven    69    male\n"
          ]
        }
      ],
      "source": [
        "# Exercise 6.2 Code Cell\n",
        "female_high_mark = df_students[(df_students['gender'] == 'female') & (df_students['mark'] >= 70)]\n",
        "print(f\"Female students with mark >= 70:\\n{female_high_mark}\")\n",
        "\n",
        "six_or_seven = df_students[(df_students['class'] == 'Six') | (df_students['class'] == 'Seven')]\n",
        "print(f\"\\nStudents in class 'Six' or 'Seven':\\n{six_or_seven}\")\n",
        "\n",
        "# Students with marks between 60 and 80 (exclusive)\n",
        "mid_scorers = df_students[(df_students['mark'] > 60) & (df_students['mark'] < 80)]\n",
        "print(f\"\\nStudents with marks between 60 and 80:\\n{mid_scorers}\")"
      ]
    },
    {
      "cell_type": "markdown",
      "id": "89f34118",
      "metadata": {
        "id": "89f34118"
      },
      "source": [
        "---\n",
        "# **7. Data Cleaning**\n",
        "\n",
        "Real-world data is often messy. Data cleaning involves handling inconsistencies, errors, and missing data.\n",
        "\n",
        "# **7.1. Handling Missing Values (`NaN`)**\n",
        "Missing values are usually represented as `NaN` (Not a Number).\n",
        "\n",
        "* **Detecting missing values:** `df.isnull()` (returns a boolean DataFrame) or `df.isnull().sum()` (counts missing values per column).\n",
        "* **Dropping missing values:** `df.dropna()` (drops rows with any NaN).\n",
        "    * `axis=1` drops columns with NaN.\n",
        "    * `how='all'` drops rows/columns if all values are NaN.\n",
        "    * `thresh=N` keeps rows/columns with at least N non-NaN values.\n",
        "* **Filling missing values:** `df.fillna(value)`\n",
        "    * Fill with a specific value (0, 'Unknown', etc.).\n",
        "    * Fill with mean: `df['column'].fillna(df['column'].mean())`.\n",
        "    * Fill with median: `df['column'].fillna(df['column'].median())`.\n",
        "    * Fill with mode: `df['column'].fillna(df['column'].mode()[0])` (mode can return multiple values, so take the first).\n",
        "    * `method='ffill'` (forward fill) or `method='bfill'` (backward fill)."
      ]
    },
    {
      "cell_type": "code",
      "execution_count": null,
      "id": "8fd04ea0",
      "metadata": {
        "id": "8fd04ea0"
      },
      "outputs": [],
      "source": [
        "# Example: Basic data cleaning with Pandas\n",
        "\n",
        "# -------------------------------\n",
        "# Step 1: View the original shape and check for missing values\n",
        "# -------------------------------\n",
        "print(\"Original data shape (rows, columns):\")\n",
        "print(df.shape)\n",
        "\n",
        "print(\"\\nMissing values in each column:\")\n",
        "print(df.isnull().sum())\n",
        "\n",
        "# -------------------------------\n",
        "# Step 2: Remove rows with missing data\n",
        "# -------------------------------\n",
        "df_no_missing = df.copy()\n",
        "df_no_missing = df_no_missing.dropna()\n",
        "\n",
        "print(\"\\nData shape after dropping rows with missing values:\")\n",
        "print(df_no_missing.shape)\n",
        "print(\"Missing values after dropping:\")\n",
        "print(df_no_missing.isnull().sum())\n",
        "\n",
        "# -------------------------------\n",
        "# Step 3: Fill missing values\n",
        "# -------------------------------\n",
        "df_filled = df.copy()\n",
        "\n",
        "# Convert 'mark' to numeric, turn errors into NaN\n",
        "df_filled['mark'] = pd.to_numeric(df_filled['mark'], errors='coerce')\n",
        "\n",
        "# Fill missing marks with the average (mean) value\n",
        "mean_mark = df_filled['mark'].mean()\n",
        "df_filled['mark'] = df_filled['mark'].fillna(mean_mark)\n",
        "\n",
        "# Fill missing gender values with 'Unknown'\n",
        "df_filled['gender'] = df_filled['gender'].fillna('Unknown')\n",
        "\n",
        "print(\"\\nMissing values after filling:\")\n",
        "print(df_filled.isnull().sum())\n",
        "\n",
        "# -------------------------------\n",
        "# Step 4: Remove duplicate rows\n",
        "# -------------------------------\n",
        "df_no_duplicates = df_filled.copy()\n",
        "\n",
        "# Drop duplicate rows\n",
        "df_no_duplicates = df_no_duplicates.drop_duplicates()\n",
        "\n",
        "print(\"\\nShape after removing duplicate rows:\")\n",
        "print(df_no_duplicates.shape)\n"
      ]
    },
    {
      "cell_type": "markdown",
      "id": "75b83843",
      "metadata": {
        "id": "75b83843"
      },
      "source": [
        "### Exercise: Handling Missing Values\n",
        "\n",
        "Use a fresh copy of the DataFrame `df`.\n",
        "\n",
        "1. Count the total number of missing values in the entire DataFrame.  \n",
        "   💡 *Hint:* Use `df.isnull().sum().sum()` to get the total number.\n",
        "\n",
        "2. Fill the missing values in the **`gender`** column with the most common value (called the **mode**).  \n",
        "   💡 *Hint:* Use `df['gender'].mode()[0]` to get the most frequent value.\n",
        "\n",
        "3. Print the number of missing values again using `df.isnull().sum()` to check the result.\n"
      ]
    },
    {
      "cell_type": "code",
      "execution_count": 32,
      "id": "724c6f81",
      "metadata": {
        "id": "724c6f81",
        "colab": {
          "base_uri": "https://localhost:8080/"
        },
        "outputId": "b8589eee-6537-497c-dac3-a540430fd2b0"
      },
      "outputs": [
        {
          "output_type": "stream",
          "name": "stdout",
          "text": [
            "Total missing values: 4\n",
            "\n",
            "Missing values after filling 'gender':\n",
            "id        0\n",
            "name      1\n",
            "class     1\n",
            "mark      0\n",
            "gender    0\n",
            "dtype: int64\n"
          ]
        }
      ],
      "source": [
        "# Exercise 7.1.1 Code Cell\n",
        "df = df_students.copy()\n",
        "\n",
        "print(f\"Total missing values: {df.isnull().sum().sum()}\")\n",
        "\n",
        "most_common_gender = df['gender'].mode()[0]\n",
        "df['gender'] = df['gender'].fillna(most_common_gender)\n",
        "\n",
        "print(f\"\\nMissing values after filling 'gender':\\n{df.isnull().sum()}\")"
      ]
    },
    {
      "cell_type": "code",
      "source": [
        "# Demo solution\n",
        "# Step 1: Make a fresh copy of the data\n",
        "df_clean = df.copy()\n",
        "\n",
        "# Step 2: Count total missing values\n",
        "print(\"Total missing values:\", df_clean.isnull().sum().sum())\n",
        "\n",
        "# Step 3: Fill missing gender values with the mode\n",
        "most_common_gender = df_clean['gender'].mode()[0]\n",
        "df_clean['gender'] = df_clean['gender'].fillna(most_common_gender)\n",
        "\n",
        "# Step 4: Check missing values again\n",
        "print(\"\\nMissing values after filling 'gender':\")\n",
        "print(df_clean.isnull().sum())\n"
      ],
      "metadata": {
        "id": "i8btp-W4vjuf",
        "colab": {
          "base_uri": "https://localhost:8080/"
        },
        "outputId": "9673be37-a030-4a69-aec5-77836692f622"
      },
      "id": "i8btp-W4vjuf",
      "execution_count": 33,
      "outputs": [
        {
          "output_type": "stream",
          "name": "stdout",
          "text": [
            "Total missing values: 2\n",
            "\n",
            "Missing values after filling 'gender':\n",
            "id        0\n",
            "name      1\n",
            "class     1\n",
            "mark      0\n",
            "gender    0\n",
            "dtype: int64\n"
          ]
        }
      ]
    },
    {
      "cell_type": "markdown",
      "id": "fd2d7a44",
      "metadata": {
        "id": "fd2d7a44"
      },
      "source": [
        "# **7.2. Renaming Columns**\n",
        "You can rename columns using `df.rename(columns={'old_name': 'new_name', ...}, inplace=True)`."
      ]
    },
    {
      "cell_type": "code",
      "execution_count": 34,
      "id": "ac0b3a94",
      "metadata": {
        "id": "ac0b3a94",
        "colab": {
          "base_uri": "https://localhost:8080/"
        },
        "outputId": "1b665306-ecd6-4322-960c-04d8983d24b6"
      },
      "outputs": [
        {
          "output_type": "stream",
          "name": "stdout",
          "text": [
            "Columns after renaming: Index(['id', 'name', 'student_class', 'score', 'gender'], dtype='object')\n"
          ]
        }
      ],
      "source": [
        "# Example: Renaming columns in a DataFrame\n",
        "\n",
        "# Make a copy of the original DataFrame\n",
        "df_renamed = df.copy()\n",
        "\n",
        "# Rename the columns 'class' to 'student_class' and 'mark' to 'score'\n",
        "df_renamed.rename(columns={'class': 'student_class', 'mark': 'score'}, inplace=True)\n",
        "\n",
        "# Print the new column names\n",
        "print(\"Columns after renaming:\", df_renamed.columns)\n"
      ]
    },
    {
      "cell_type": "markdown",
      "id": "7d185c2d",
      "metadata": {
        "id": "7d185c2d"
      },
      "source": [
        "# **8. Data Transformation**\n",
        "\n",
        "Data transformation is the process of modifying the structure or values of a DataFrame to make the data more useful or meaningful. This often includes creating new columns, changing data types, or preparing values for analysis.\n",
        "---\n",
        "\n",
        "## **8.1. Creating New Columns**\n",
        "\n",
        "In this example, we perform several transformations to clean and enrich the dataset step by step.\n",
        "\n",
        "### **Step 1: Make a Copy of the Original DataFrame**\n",
        "\n",
        "Before making any changes, it's a good practice to work on a copy of the original DataFrame to avoid altering the original data.\n",
        "\n",
        "# Make a copy of the original DataFrame\n",
        "df_transformed = df.copy()\n"
      ]
    },
    {
      "cell_type": "code",
      "execution_count": 37,
      "id": "644aa144",
      "metadata": {
        "id": "644aa144",
        "colab": {
          "base_uri": "https://localhost:8080/"
        },
        "outputId": "ca6f73d4-94b6-4420-9f1e-9cfd45d8006e"
      },
      "outputs": [
        {
          "output_type": "stream",
          "name": "stdout",
          "text": [
            "         name  mark  mark_percentage pass_fail\n",
            "0    John Deo    75               75      Pass\n",
            "1    Max Ruin    85               85      Pass\n",
            "2      Arnold    55               55      Fail\n",
            "3  Krish Star    60               60      Pass\n",
            "4   John Mike    60               60      Pass\n"
          ]
        }
      ],
      "source": [
        "# Example: Creating new columns in a DataFrame\n",
        "\n",
        "# Make a copy of the original DataFrame\n",
        "df_transformed = df.copy()\n",
        "\n",
        "# Convert 'mark' to numeric and fill any missing values with 0\n",
        "df_transformed['mark'] = pd.to_numeric(df_transformed['mark'], errors='coerce').fillna(0)\n",
        "\n",
        "# Create a new column: 'mark_percentage' (assuming max mark is 100)\n",
        "df_transformed['mark_percentage'] = df_transformed['mark']\n",
        "\n",
        "# Create a new column: 'pass_fail' (Pass if mark >= 60)\n",
        "df_transformed['pass_fail'] = df_transformed['mark'].apply(lambda x: 'Pass' if x >= 60 else 'Fail')\n",
        "\n",
        "# Display the result\n",
        "print(df_transformed[['name', 'mark', 'mark_percentage', 'pass_fail']].head())\n"
      ]
    },
    {
      "cell_type": "markdown",
      "id": "5008fd41",
      "metadata": {
        "id": "5008fd41"
      },
      "source": [
        "**Exercise 8.1:** In a copy of `df` (ensure 'mark' is numeric and NaNs are handled, e.g., filled with 0 for this exercise):\n",
        "1. Create a new column called `bonus_mark` which is 10% of the original 'mark'.\n",
        "2. Create another column `final_mark` which is the sum of 'mark' and `bonus_mark`.\n",
        "3. Print the 'name', 'mark', `bonus_mark`, and `final_mark` columns for the first 5 students."
      ]
    },
    {
      "cell_type": "code",
      "execution_count": 39,
      "id": "39ab5374",
      "metadata": {
        "id": "39ab5374",
        "colab": {
          "base_uri": "https://localhost:8080/"
        },
        "outputId": "a0956754-8231-4205-bca7-380b61fdb775"
      },
      "outputs": [
        {
          "output_type": "stream",
          "name": "stdout",
          "text": [
            "         name  mark  bonus_mark  final_mark\n",
            "0    John Deo    75         7.5        82.5\n",
            "1    Max Ruin    85         8.5        93.5\n",
            "2      Arnold    55         5.5        60.5\n",
            "3  Krish Star    60         6.0        66.0\n",
            "4   John Mike    60         6.0        66.0\n"
          ]
        }
      ],
      "source": [
        "# Exercise 8.1.1 Code Cell\n",
        "df_exercise = df.copy()\n",
        "\n",
        "df_exercise[\"mark\"] = pd.to_numeric(df_exercise[\"mark\"], errors=\"coerce\").fillna(0)\n",
        "\n",
        "df_exercise[\"bonus_mark\"] = 0.1 * df_exercise[\"mark\"]\n",
        "\n",
        "df_exercise[\"final_mark\"] = df_exercise[\"mark\"] + df_exercise[\"bonus_mark\"]\n",
        "\n",
        "print(df_exercise[[\"name\", \"mark\", \"bonus_mark\", \"final_mark\"]].head())"
      ]
    },
    {
      "cell_type": "markdown",
      "id": "a02a37ef",
      "metadata": {
        "id": "a02a37ef"
      },
      "source": [
        "---\n",
        "# **9. Basic Statistics and Aggregation 📊**\n",
        "\n",
        "Pandas makes it easy to get insights from your data through statistics and aggregation.\n",
        "\n",
        "* `df['column'].value_counts()`: Counts of unique values in a Series (good for categorical data).\n",
        "* Basic statistics on Series/DataFrame columns:\n",
        "    * `df['column'].mean()`\n",
        "    * `df['column'].median()`\n",
        "    * `df['column'].min()`, `df['column'].max()`\n",
        "    * `df['column'].std()` (standard deviation)\n",
        "    * `df['column'].sum()`\n",
        "    * `df['column'].count()` (non-null values)\n",
        "* `df.groupby('column_to_group_by')`: Groups data based on categories in a column. You can then apply aggregate functions (like mean, sum, count) to the groups.\n",
        "    * Example: `df.groupby('class')['mark'].mean()` (average mark per class)"
      ]
    },
    {
      "cell_type": "code",
      "execution_count": null,
      "id": "a5602db5",
      "metadata": {
        "id": "a5602db5"
      },
      "outputs": [],
      "source": [
        "# Example 9.1: Statistics and Aggregation\n",
        "\n",
        "# Convert 'mark' column to numeric\n",
        "df['mark'] = pd.to_numeric(df['mark'], errors='coerce')\n",
        "\n",
        "# Value counts for 'class'\n",
        "print(\"Class distribution:\")\n",
        "print(df['class'].value_counts())\n",
        "\n",
        "# Basic statistics\n",
        "print(\"\\nMean mark:\", df['mark'].mean())\n",
        "print(\"Median mark:\", df['mark'].median())\n",
        "print(\"Highest mark:\", df['mark'].max())\n",
        "print(\"Lowest mark:\", df['mark'].min())\n",
        "\n",
        "# Mean mark per class\n",
        "print(\"\\nAverage mark per class:\")\n",
        "print(df.groupby('class')['mark'].mean())\n",
        "\n",
        "# Student count per gender (filling missing values with 'Unknown')\n",
        "print(\"\\nStudents per gender:\")\n",
        "print(df.fillna({'gender': 'Unknown'}).groupby('gender')['id'].count())\n"
      ]
    },
    {
      "cell_type": "markdown",
      "id": "742fd896",
      "metadata": {
        "id": "742fd896"
      },
      "source": [
        "**Exercise 9.1:** Using `df`:\n",
        "1. Get the value counts for the 'gender' column.\n",
        "2. Calculate and print the percentage of each gender using `value_counts(normalize=True) * 100`."
      ]
    },
    {
      "cell_type": "code",
      "execution_count": null,
      "id": "15fb59c9",
      "metadata": {
        "id": "15fb59c9"
      },
      "outputs": [],
      "source": [
        "# Exercise 9.1 Code Cell\n",
        "print(df['gender'].value_counts())\n",
        "\n",
        "print(df['gender'].value_counts(normalize=True) * 100)"
      ]
    },
    {
      "cell_type": "markdown",
      "id": "0935aa29",
      "metadata": {
        "id": "0935aa29"
      },
      "source": [
        "---\n",
        "# **10. Basic Visualizations 📈📉**\n",
        "\n",
        "Visualizations help in understanding data patterns and trends. Pandas integrates with Matplotlib for plotting.\n",
        "Remember we imported `matplotlib.pyplot as plt`.\n",
        "\n",
        "# **10.1. Histograms**\n",
        "Histograms show the distribution of a numerical variable.\n",
        "`df['column'].plot(kind='hist', title='My Histogram', bins=10)`\n",
        "`plt.xlabel('X-axis Label')`\n",
        "`plt.ylabel('Frequency')`\n",
        "`plt.show()`"
      ]
    },
    {
      "cell_type": "markdown",
      "id": "f4f40011",
      "metadata": {
        "id": "f4f40011"
      },
      "source": [
        "# **10. Basic Visualization**\n",
        "\n",
        "Visualising data helps you quickly identify patterns, trends, and outliers. Pandas integrates with Matplotlib for simple and effective plotting. Below are common visualisation types using only Pandas:\n",
        "\n",
        "- **Bar Chart**: Displays the count of categories or frequency of values.\n",
        "- **Line Plot**: Shows how a variable changes over an index (e.g. time or order).\n",
        "- **Scatter Plot**: Explores the relationship between two numerical variables.\n",
        "\n"
      ]
    },
    {
      "cell_type": "markdown",
      "id": "3f3ffeb2",
      "metadata": {
        "id": "3f3ffeb2"
      },
      "source": [
        "# **10.1. Bar Plots**\n",
        "Bar plots are useful for comparing categorical data.\n",
        "`df['column'].value_counts().plot(kind='bar', title='My Bar Plot')`\n",
        "`plt.xlabel('Categories')`\n",
        "`plt.ylabel('Count')`\n",
        "`plt.xticks(rotation=45)` (to rotate x-axis labels if they overlap)\n",
        "`plt.show()`"
      ]
    },
    {
      "cell_type": "code",
      "execution_count": 40,
      "id": "deb89bee",
      "metadata": {
        "id": "deb89bee",
        "colab": {
          "base_uri": "https://localhost:8080/",
          "height": 478
        },
        "outputId": "a0f70586-ccfc-47e9-a50f-9fd7ab79ae9b"
      },
      "outputs": [
        {
          "output_type": "display_data",
          "data": {
            "text/plain": [
              "<Figure size 640x480 with 1 Axes>"
            ],
            "image/png": "[encoded data removed]"
          },
          "metadata": {}
        }
      ],
      "source": [
        "# Bar graph of student counts per class using only pandas\n",
        "df['class'].value_counts().plot.bar().figure.show()\n"
      ]
    },
    {
      "cell_type": "markdown",
      "source": [
        "# **10.2. Line Plots**\n",
        "\n",
        "Line plots show how a numerical variable changes over an index or time. They are useful for visualising trends and patterns in data sequences.  \n",
        "`df['column'].plot(title='My Line Plot')`  \n",
        "`plt.show()`\n"
      ],
      "metadata": {
        "id": "hIKDVtAz2ICY"
      },
      "id": "hIKDVtAz2ICY"
    },
    {
      "cell_type": "code",
      "source": [
        "# Line plot of student marks using only pandas\n",
        "df['mark'].plot(title='Line Plot of Student Marks').figure.show()\n"
      ],
      "metadata": {
        "id": "PYHQlzbo2UQa",
        "colab": {
          "base_uri": "https://localhost:8080/",
          "height": 452
        },
        "outputId": "be650fcf-6534-4340-e0cf-b1022e703538"
      },
      "id": "PYHQlzbo2UQa",
      "execution_count": 41,
      "outputs": [
        {
          "output_type": "display_data",
          "data": {
            "text/plain": [
              "<Figure size 640x480 with 1 Axes>"
            ],
            "image/png": "[encoded data removed]"
          },
          "metadata": {}
        }
      ]
    },
    {
      "cell_type": "markdown",
      "id": "e1641370",
      "metadata": {
        "id": "e1641370"
      },
      "source": [
        "# **10.3. Scatter Plots**\n",
        "Scatter plots show the relationship between two numerical variables.\n",
        "`df.plot.scatter(x='col1', y='col2', title='My Scatter Plot')`\n",
        "`plt.show()`"
      ]
    },
    {
      "cell_type": "code",
      "execution_count": 42,
      "id": "c9912449",
      "metadata": {
        "id": "c9912449",
        "colab": {
          "base_uri": "https://localhost:8080/",
          "height": 472
        },
        "outputId": "60c20561-10bd-4dc4-cc9a-bcdc18c8f62a"
      },
      "outputs": [
        {
          "output_type": "display_data",
          "data": {
            "text/plain": [
              "<Figure size 640x480 with 1 Axes>"
            ],
            "image/png": "[encoded data removed]"
          },
          "metadata": {}
        }
      ],
      "source": [
        "import numpy as np\n",
        "\n",
        "# Create a DataFrame with random data\n",
        "df = pd.DataFrame({\n",
        "    'x': np.random.randint(1, 100, size=50),\n",
        "    'y': np.random.randint(1, 100, size=50)\n",
        "})\n",
        "\n",
        "# Create scatter plot using only pandas\n",
        "df.plot.scatter(x='x', y='y', title='Scatter Plot of Random Values').figure.show()\n"
      ]
    },
    {
      "cell_type": "markdown",
      "id": "18add858",
      "metadata": {
        "id": "18add858"
      },
      "source": [
        "# **Group Activity: Choosing the Right Plot**\n",
        "\n",
        "**Scenario:** Working with the `df` dataset, discuss the following questions with your group. For each one, decide which type of plot (Bar Plot, Line Plot, or Scatter Plot) would be the most suitable to answer the question — and explain why.\n",
        "\n",
        "1. How many students are there in each `'class'`?\n",
        "2. What does the overall distribution of student `'marks'` look like? Are the marks generally high, low, or spread out?\n",
        "3. Is there a relationship between a student's `'id'` and their `'mark'`? (Assume `'id'` represents enrolment order or time sequence).\n",
        "4. How do the numbers of `'male'` and `'female'` students compare?\n",
        "\n",
        "\n",
        "\n"
      ]
    },
    {
      "cell_type": "code",
      "execution_count": null,
      "id": "cbe0861b",
      "metadata": {
        "id": "cbe0861b"
      },
      "outputs": [],
      "source": [
        "# Group Activity Answers\n",
        "\n",
        "# 1. How many students are there in each 'class'?\n",
        "#    - Appropriate plot: Bar Plot\n",
        "#    - Reason: A bar plot is ideal for showing the number of students in each category of the 'class' column.\n",
        "# Example:\n",
        "# df_students['class'].value_counts().plot(kind='bar', title='Students per Class').figure.show()\n",
        "\n",
        "# 2. What is the overall distribution of student 'marks'?\n",
        "#    - Appropriate plot: Histogram\n",
        "#    - Reason: A histogram shows how marks are distributed (e.g. skewed, spread out, or clustered).\n",
        "# Example:\n",
        "# pd.to_numeric(df_students['mark'], errors='coerce').dropna().plot(kind='hist', title='Mark Distribution').figure.show()\n",
        "\n",
        "# 3. Is there a relationship between a student's 'id' and their 'mark'?\n",
        "#    - Appropriate plot: Scatter Plot\n",
        "#    - Reason: A scatter plot shows the relationship or correlation between two numeric variables.\n",
        "# Example:\n",
        "# df_students.dropna(subset=['id', 'mark']).plot.scatter(x='id', y='mark', title='ID vs Mark').figure.show()\n",
        "\n",
        "# 4. How do the numbers of 'male' and 'female' students compare?\n",
        "#    - Appropriate plot: Bar Plot\n",
        "#    - Reason: A bar plot is useful for comparing the counts of categorical values like gender.\n",
        "# Example:\n",
        "# df_students['gender'].fillna('Unknown').value_counts().plot(kind='bar', title='Gender Comparison').figure.show()\n"
      ]
    },
    {
      "cell_type": "markdown",
      "id": "99e8d6d8",
      "metadata": {
        "id": "99e8d6d8"
      },
      "source": [
        "---\n",
        "# **11. Best Practices Recap**\n",
        "\n",
        "* **Clear Variable Names:** Use descriptive names for DataFrames and Series (e.g., `df_students`, `mean_score`).\n",
        "* **Comment Your Code:** Explain complex steps or a non-obvious logic with `#` comments.\n",
        "* **Inspect Frequently:** Use `.head()`, `.info()`, `.shape`, `.describe()` often to check your data and the results of operations.\n",
        "* **Work on Copies:** When performing operations that modify a DataFrame (especially `inplace=True` or tricky transformations), it's often safer to work on a copy: `df_copy = df.copy()`.\n",
        "* **Break Down Problems:** For complex tasks, break them into smaller, manageable steps.\n",
        "* **Understand Your Data Types:** Ensure columns have the correct data types for the operations you want to perform."
      ]
    },
    {
      "cell_type": "markdown",
      "id": "7fe67b52",
      "metadata": {
        "id": "7fe67b52"
      },
      "source": [
        "---\n",
        "# **🎉 Day 3 Wrap-up**\n",
        "\n",
        "Congratulations! You've learned the fundamentals of data analysis using Pandas. You can now:\n",
        "* Create and understand Series and DataFrames.\n",
        "* Load data from CSV files.\n",
        "* Inspect, clean, and transform datasets.\n",
        "* Calculate basic statistics and perform aggregations.\n",
        "* Create simple visualizations to explore your data.\n",
        "\n",
        "**Keep practicing!** The more you work with data, the more comfortable you'll become with Pandas. Try these techniques on different datasets or explore more advanced Pandas features.\n",
        "\n",
        "**Next Steps:** We'll build upon these skills to tackle more complex data analysis tasks and possibly explore other libraries like Seaborn for more advanced visualizations."
      ]
    }
  ],
  "metadata": {
    "kernelspec": {
      "display_name": "Python 3",
      "language": "python",
      "name": "python3"
    },
    "language_info": {
      "codemirror_mode": {
        "name": "ipython",
        "version": 3
      },
      "file_extension": ".py",
      "mimetype": "text/x-python",
      "name": "python",
      "nbconvert_exporter": "python",
      "pygments_lexer": "ipython3",
      "version": "3.10.0"
    },
    "colab": {
      "provenance": []
    }
  },
  "nbformat": 4,
  "nbformat_minor": 5
}